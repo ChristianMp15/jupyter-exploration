{
 "cells": [
  {
   "cell_type": "markdown",
   "id": "6eec0967-4733-480a-aa52-74f21990964f",
   "metadata": {},
   "source": [
    "# My First Markdown Cell in Jupyter"
   ]
  },
  {
   "cell_type": "code",
   "execution_count": 3,
   "id": "aedbb856-354b-4c63-a3bb-9f5c7de52bdd",
   "metadata": {},
   "outputs": [
    {
     "name": "stdout",
     "output_type": "stream",
     "text": [
      "hello, world.\n"
     ]
    }
   ],
   "source": [
    "print (\"hello, world.\")"
   ]
  },
  {
   "cell_type": "code",
   "execution_count": null,
   "id": "395f4406-7e9d-4f01-873e-903d586aa83b",
   "metadata": {},
   "outputs": [],
   "source": []
  }
 ],
 "metadata": {
  "kernelspec": {
   "display_name": "Python 3 (ipykernel)",
   "language": "python",
   "name": "python3"
  },
  "language_info": {
   "codemirror_mode": {
    "name": "ipython",
    "version": 3
   },
   "file_extension": ".py",
   "mimetype": "text/x-python",
   "name": "python",
   "nbconvert_exporter": "python",
   "pygments_lexer": "ipython3",
   "version": "3.12.4"
  }
 },
 "nbformat": 4,
 "nbformat_minor": 5
}
